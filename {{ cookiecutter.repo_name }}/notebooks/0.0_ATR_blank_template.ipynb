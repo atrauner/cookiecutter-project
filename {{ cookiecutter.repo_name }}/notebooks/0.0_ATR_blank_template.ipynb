{
 "cells": [
  {
   "cell_type": "markdown",
   "metadata": {},
   "source": [
    "# Title\n",
    "Short description"
   ]
  },
  {
   "cell_type": "code",
   "execution_count": null,
   "metadata": {
    "collapsed": true
   },
   "outputs": [],
   "source": [
    "#Python core packages\n",
    "from collections import Counter\n",
    "import string\n",
    "import pickle\n",
    "import datetime\n",
    "import warnings\n",
    "import os\n",
    "warnings.filterwarnings(\"ignore\")\n",
    "\n",
    "#Additional Python packages\n",
    "import tqdm\n",
    "import requests as rq\n",
    "\n",
    "#Scientific packages\n",
    "from scipy import stats as ss\n",
    "import numpy as np\n",
    "import matplotlib as mpl\n",
    "import matplotlib.pyplot as plt\n",
    "from sklearn import utils as sku\n",
    "\n",
    "mpl.style.use('classic')\n",
    "mpl.rcParams['font.family']='Arial'\n",
    "mpl.rcParams['legend.numpoints'] = 1\n",
    "\n",
    "%matplotlib inline"
   ]
  }
 ],
 "metadata": {
  "kernelspec": {
   "display_name": "Python 3",
   "language": "python",
   "name": "python3"
  },
  "language_info": {
   "codemirror_mode": {
    "name": "ipython",
    "version": 3
   },
   "file_extension": ".py",
   "mimetype": "text/x-python",
   "name": "python",
   "nbconvert_exporter": "python",
   "pygments_lexer": "ipython3",
   "version": "3.5.1"
  }
 },
 "nbformat": 4,
 "nbformat_minor": 2
}
